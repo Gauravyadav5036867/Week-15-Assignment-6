{
 "cells": [
  {
   "cell_type": "code",
   "execution_count": null,
   "id": "e1261fa2-841e-4c53-b55f-47f5f37fad50",
   "metadata": {},
   "outputs": [],
   "source": [
    "#Question 1\n",
    "\n",
    "Step-By-Step Guide to Cloud App Development\n",
    "Step 4: Testing Your Application. ...\n",
    "Step 5: Deploying Your Application. ...\n",
    "Step 6: Monitoring and Maintenance. ...\n",
    "Step 7: Implementing Continuous Integration and Continuous Deployment (CI/CD)\n"
   ]
  },
  {
   "cell_type": "code",
   "execution_count": null,
   "id": "61a6d482-aa36-46c6-865b-5ddd4433e22c",
   "metadata": {},
   "outputs": [],
   "source": [
    "#Question 2\n",
    "\n",
    "Cloud hosting uses a network of servers in different locations to host websites, while traditional hosting uses a single server or a group of servers located in a single location. This has implications on the performance and reliability of the hosting solution."
   ]
  },
  {
   "cell_type": "code",
   "execution_count": null,
   "id": "26c2880a-5dd4-4142-bf6d-333fb6e0c0b5",
   "metadata": {},
   "outputs": [],
   "source": [
    "#Question 3\n",
    "\n",
    "Service Offerings. In this first step, you need to determine whether the cloud provider offers the specific services and tools your organization needs.\n",
    "Scalability. \n",
    "Performance. \n",
    "Data Center Locations.\n",
    "Security.\n",
    "Compliance.\n",
    "Data Backup and Disaster Recovery.\n",
    "Cost and Pricing Structure."
   ]
  },
  {
   "cell_type": "code",
   "execution_count": null,
   "id": "1b332fda-c264-4cc5-86eb-33f6391864c4",
   "metadata": {},
   "outputs": [],
   "source": [
    "#Question 4\n",
    "\n",
    "Designing and building a responsive user interface (UI) for a web application involves creating a flexible and adaptive design that works well on various devices and screen sizes.\n",
    "\n",
    "1) Flexible Everything.\n",
    "2) Modify Images.\n",
    "3) Use Scalar Vector Graphics (SVGs)\n",
    "4) Pay Attention to Breakpoints.\n",
    "5) Consider Card Interfaces.\n",
    "6) Minimalism Matters.\n",
    "7) Mobile-First Design Approach.\n",
    "8) Prioritize and Hide Content Appropriately."
   ]
  },
  {
   "cell_type": "code",
   "execution_count": null,
   "id": "eb107c57-0b4a-473d-af53-21793420968f",
   "metadata": {},
   "outputs": [],
   "source": [
    "#Question 5\n"
   ]
  }
 ],
 "metadata": {
  "kernelspec": {
   "display_name": "Python 3 (ipykernel)",
   "language": "python",
   "name": "python3"
  },
  "language_info": {
   "codemirror_mode": {
    "name": "ipython",
    "version": 3
   },
   "file_extension": ".py",
   "mimetype": "text/x-python",
   "name": "python",
   "nbconvert_exporter": "python",
   "pygments_lexer": "ipython3",
   "version": "3.10.8"
  }
 },
 "nbformat": 4,
 "nbformat_minor": 5
}
